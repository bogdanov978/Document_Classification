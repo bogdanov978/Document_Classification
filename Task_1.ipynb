{
 "cells": [
  {
   "cell_type": "markdown",
   "metadata": {},
   "source": [
    "# Задание 1\n",
    "\n",
    "[Свертка списка](https://ru.wikipedia.org/wiki/%D0%A1%D0%B2%D1%91%D1%80%D1%82%D0%BA%D0%B0_%D1%81%D0%BF%D0%B8%D1%81%D0%BA%D0%B0) -  это обобщенная операция над списком, c помощью которой можно преобразовать список в единое значение. Например, рассмотрим реализации свертки слева и свертки справа (левоассоциативную свертку и правоассоциативную свертку):"
   ]
  },
  {
   "cell_type": "code",
   "execution_count": 2,
   "metadata": {
    "jupyter": {
     "outputs_hidden": true
    }
   },
   "outputs": [],
   "source": [
    "def foldl(f, x0, lst):\n",
    "    if not lst:\n",
    "        return x0\n",
    "    return foldl(f, f(x0, lst[0]), lst[1:])\n",
    "\n",
    "def foldr(f, x0, lst):\n",
    "    if not lst:\n",
    "        return x0\n",
    "    return f(lst[0], foldr(f, x0, lst[1:]))"
   ]
  },
  {
   "cell_type": "code",
   "execution_count": 3,
   "metadata": {},
   "outputs": [
    {
     "data": {
      "text/plain": [
       "6"
      ]
     },
     "execution_count": 3,
     "metadata": {},
     "output_type": "execute_result"
    }
   ],
   "source": [
    "#сумма\n",
    "foldl(lambda x, y: x + y, 0, [1, 2, 3])"
   ]
  },
  {
   "cell_type": "code",
   "execution_count": 4,
   "metadata": {},
   "outputs": [
    {
     "data": {
      "text/plain": [
       "'123'"
      ]
     },
     "execution_count": 4,
     "metadata": {},
     "output_type": "execute_result"
    }
   ],
   "source": [
    "#конкатенация\n",
    "foldl(lambda x, y: '{}{}'.format(x, y), '', [1, 2, 3])"
   ]
  },
  {
   "cell_type": "code",
   "execution_count": 5,
   "metadata": {},
   "outputs": [
    {
     "data": {
      "text/plain": [
       "(0.16666666666666666, 1.5)"
      ]
     },
     "execution_count": 5,
     "metadata": {},
     "output_type": "execute_result"
    }
   ],
   "source": [
    "f = lambda x, y: x / y\n",
    "foldl(f, 1, [1, 2, 3]), \\\n",
    "foldr(f, 1, [1, 2, 3])"
   ]
  },
  {
   "cell_type": "markdown",
   "metadata": {},
   "source": [
    "Задача: реализовать foldl через foldr и наоборот. Вместо многоточий нужно вставить выражения, которые бы привели к нужному результату. Модифицировать сам список нельзя. "
   ]
  },
  {
   "cell_type": "code",
   "execution_count": 6,
   "metadata": {
    "jupyter": {
     "outputs_hidden": true
    }
   },
   "outputs": [
    {
     "data": {
      "text/plain": [
       "0.16666666666666666"
      ]
     },
     "execution_count": 6,
     "metadata": {},
     "output_type": "execute_result"
    }
   ],
   "source": [
    "def foldl2(f, x0, lst):\n",
    "    return foldr(lambda ev, F: lambda val: F(f(val, ev)), lambda x: x, lst)(x0)\n",
    "foldl2(f, 1, [1, 2, 3])"
   ]
  },
  {
   "cell_type": "code",
   "execution_count": 7,
   "metadata": {
    "jupyter": {
     "outputs_hidden": true
    }
   },
   "outputs": [
    {
     "data": {
      "text/plain": [
       "1.5"
      ]
     },
     "execution_count": 7,
     "metadata": {},
     "output_type": "execute_result"
    }
   ],
   "source": [
    "def foldr2(f, x0, lst):\n",
    "    return foldl(lambda F, ev: lambda val: F(f(ev, val)), lambda x: x, lst)(x0)\n",
    "foldr2(f, 1, [1, 2, 3])"
   ]
  },
  {
   "cell_type": "markdown",
   "metadata": {},
   "source": [
    "# Задание 2\n",
    "\n",
    "нужно написать функцию, которая принимает две строки и проверяет, входит ли хотя бы одна перестановка второй строки в первую. Например:\n",
    "\n",
    "> a = 'abcrotm'\n",
    "> \n",
    "> b = 'tro'\n",
    "\n",
    "функция def check_inv(a, b) вернет True, так как 'rot' содержится в 'abcrotm'. Нужно подумать как можно более оптимальный алгоритм и оценить его сложность. "
   ]
  },
  {
   "cell_type": "code",
   "execution_count": 1,
   "metadata": {
    "jupyter": {
     "outputs_hidden": true
    }
   },
   "outputs": [
    {
     "data": {
      "text/plain": [
       "True"
      ]
     },
     "execution_count": 1,
     "metadata": {},
     "output_type": "execute_result"
    }
   ],
   "source": [
    "import string\n",
    "\n",
    "\n",
    "def check_inv(a, b):\n",
    "    if len(a) < len(b):\n",
    "        return False\n",
    "    b_chars = dict.fromkeys(string.ascii_letters, 0)\n",
    "    for i in b:\n",
    "        b_chars[i] += 1\n",
    "    a_chars = dict.fromkeys(string.ascii_letters, 0)\n",
    "    for i in a:\n",
    "        a_chars[i] += 1\n",
    "    for i in b:\n",
    "        if a_chars[i] < b_chars[i]:\n",
    "            return False\n",
    "    return True\n",
    "\n",
    "\n",
    "check_inv('abcrotm', 'tro')"
   ]
  },
  {
   "cell_type": "markdown",
   "metadata": {},
   "source": [
    "# Задание 3\n",
    "\n",
    "Реализовать бинарное дерево (класс Tree), в нём методы __repr__, __str__, __iter__ (итерация только по листьям)."
   ]
  },
  {
   "cell_type": "code",
   "execution_count": 12,
   "metadata": {},
   "outputs": [
    {
     "name": "stdout",
     "output_type": "stream",
     "text": [
      "True\n",
      "0 1 3 4 2 \n",
      "Tree(0, Tree(1, Leaf(3), Leaf(4)), Leaf(2))\n"
     ]
    }
   ],
   "source": [
    "class Tree:\n",
    "    def __init__(self, value=None, left=None, right=None):\n",
    "        self.left = left\n",
    "        self.right = right\n",
    "        self.value = value\n",
    "\n",
    "    def __iter__(self):\n",
    "        if self.left is None and self.right is None:  # так как итерация по листьям\n",
    "            yield self.value\n",
    "        if self.left:\n",
    "            yield from self.left.__iter__()\n",
    "        if self.right:\n",
    "            yield from self.right.__iter__()\n",
    "\n",
    "    def __str__(self):\n",
    "        s = str(self.value) + ' '\n",
    "        if self.left:\n",
    "            s += (self.left.__str__())\n",
    "        if self.right:\n",
    "            s += (self.right.__str__())\n",
    "        return s\n",
    "\n",
    "    def __repr__(self):\n",
    "        if self.left is None and self.right is None:\n",
    "            return f'Leaf({self.value})'\n",
    "        return f'Tree({self.value}, {self.left.__repr__()}, {self.right.__repr__()})'\n",
    "    \n",
    "tree = Tree(0, Tree(1, Tree(3), Tree(4)), Tree(2))\n",
    "\n",
    "print(list(tree) == [3, 4, 2])\n",
    "print(tree)\n",
    "print(repr(tree))"
   ]
  },
  {
   "cell_type": "markdown",
   "metadata": {},
   "source": [
    "# Задание 4\n",
    "\n",
    "Реализовать простейший калькулятор математических выражений:\n",
    "- только целые числа\n",
    "- **+**, **\\-**, **\\***, **\\**\n",
    "- скобки\n",
    "\n",
    "**Можно использовать регулярные выражения**"
   ]
  },
  {
   "cell_type": "code",
   "execution_count": 11,
   "metadata": {},
   "outputs": [
    {
     "name": "stdout",
     "output_type": "stream",
     "text": [
      "True\n",
      "18.0\n"
     ]
    }
   ],
   "source": [
    "oper = {'*': lambda a, b: a * b, '/': lambda a, b: b / a, '+': lambda a, b: a + b, '-': lambda a, b: b - a}\n",
    "prior = {1: ['+', '-'], 2: ['*', '/'], 0: ['(', ')']}\n",
    "\n",
    "\n",
    "def priority(val):\n",
    "    for k, v in prior.items():\n",
    "        if val in v:\n",
    "            return k\n",
    "    return -1\n",
    "\n",
    "\n",
    "def split(expr):\n",
    "    s = []\n",
    "    for i in expr.split():\n",
    "        if len(i) > 1:\n",
    "            if i[0] == '(':\n",
    "                s.append(i[0])\n",
    "                s.append(i[1:])\n",
    "            elif i[-1] == ')':\n",
    "                s.append(i[:-1])\n",
    "                s.append(i[-1])\n",
    "            else:\n",
    "                s.append(i)\n",
    "        else:\n",
    "            s.append(i)\n",
    "    return s\n",
    "\n",
    "\n",
    "def calc(expr):\n",
    "    s = split(expr)\n",
    "    #print(s)\n",
    "    result = []\n",
    "    stack = []\n",
    "    for el in s:\n",
    "        #print(result)\n",
    "        #print(stack)\n",
    "        if el not in '+-*/()':\n",
    "            result.append(int(el))\n",
    "        else:\n",
    "            if el == '(':\n",
    "                stack.append(el)\n",
    "                continue\n",
    "            elif el == ')':\n",
    "                while stack[-1] != '(':\n",
    "                    result.append(oper[stack.pop()](result.pop(), result.pop()))\n",
    "                stack.pop()\n",
    "            else:\n",
    "                if len(stack) == 0:\n",
    "                    last = None\n",
    "                else:\n",
    "                    last = stack[-1]\n",
    "                while priority(last) >= priority(el):\n",
    "                    result.append(oper[stack.pop()](result.pop(), result.pop()))\n",
    "                    if len(stack) == 0:\n",
    "                        last = None\n",
    "                    else:\n",
    "                        last = stack[-1]\n",
    "                stack.append(el)\n",
    "    \n",
    "    while len(stack) > 0:\n",
    "        result.append(oper[stack.pop()](result.pop(), result.pop()))\n",
    "\n",
    "    return result[0]\n",
    "\n",
    "print(calc('2 * (15 - 3 * 4) - 2') == 4)\n",
    "print(calc('3 * 4 / (2 * 2) * 2 * 3'))"
   ]
  },
  {
   "cell_type": "code",
   "execution_count": null,
   "metadata": {
    "collapsed": true,
    "jupyter": {
     "outputs_hidden": true
    }
   },
   "outputs": [],
   "source": []
  }
 ],
 "metadata": {
  "kernelspec": {
   "display_name": "Python 3",
   "language": "python",
   "name": "python3"
  },
  "language_info": {
   "codemirror_mode": {
    "name": "ipython",
    "version": 3
   },
   "file_extension": ".py",
   "mimetype": "text/x-python",
   "name": "python",
   "nbconvert_exporter": "python",
   "pygments_lexer": "ipython3",
   "version": "3.7.6"
  }
 },
 "nbformat": 4,
 "nbformat_minor": 4
}
