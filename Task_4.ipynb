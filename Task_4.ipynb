{
 "cells": [
  {
   "cell_type": "markdown",
   "metadata": {},
   "source": [
    "# Линейная регрессия"
   ]
  },
  {
   "cell_type": "markdown",
   "metadata": {},
   "source": [
    "Данные содержатся в файле `data/lin_reg.txt`. Прочитать их можно следующим так:"
   ]
  },
  {
   "cell_type": "code",
   "execution_count": 2,
   "metadata": {},
   "outputs": [],
   "source": [
    "import matplotlib.pyplot as plt\n",
    "import numpy as np\n",
    "import torch\n",
    "\n",
    "D = np.loadtxt('data/lin_reg.txt', delimiter=',')\n",
    "X = D[:, :-1]\n",
    "Y = D[:, -1]\n",
    "eps = 1e-12\n",
    "X = (X - X.mean(axis=0))/(X.std(axis = 0) + eps)\n",
    "Y = Y.reshape((-1,1))\n",
    "X = torch.tensor(X, dtype=torch.float)\n",
    "Y = torch.tensor(Y, dtype=torch.float)"
   ]
  },
  {
   "cell_type": "markdown",
   "metadata": {},
   "source": [
    "При выполнении заданий **нельзя** пользоваться `scikit-learn` и т.п., только `NumPy`/`JAX`/`TF`/`PyTorch` и `matplotlib`/`seaborn`/`plotly`/etc.\n",
    "\n",
    "1. Нарисуйте график среднеквадратичной ошибки в зависимости от параметра регуляризации $\\alpha$, используя полные данные для обучения и для тестирования. \n",
    "2. Подготовьте исходные данные для 5 fold CV.\n",
    "3. С помощью CV найдите оптимальное значение $\\alpha$ на какой-нибудь сетке значений.\n",
    "4. Постройте валидационную кривую. \n",
    "5. Постройте кривую обучения."
   ]
  },
  {
   "cell_type": "code",
   "execution_count": 3,
   "metadata": {},
   "outputs": [],
   "source": [
    "class LinearModel(torch.nn.Module):\n",
    "    def __init__(self,in_features):\n",
    "        super(LinearModel,self).__init__()\n",
    "        self.fc = torch.nn.Linear(in_features, 1, bias=True)\n",
    "        \n",
    "    def forward(self,x):\n",
    "        x = self.fc(x)\n",
    "        return x"
   ]
  },
  {
   "cell_type": "code",
   "execution_count": 4,
   "metadata": {},
   "outputs": [],
   "source": [
    "def train_model(model,criterion, optimizer, X_train, y_train, X_val=None, y_val=None, batch_size = 16, epochs = 100, verbose = True):\n",
    "    history, val_history = [], []\n",
    "    for epoch in range(1, epochs + 1):\n",
    "        fraction = X_train.shape[0] // batch_size\n",
    "        batch_range = range(fraction)\n",
    "        for i in batch_range:\n",
    "            x_batch = X_train[i * batch_size: (i + 1) * batch_size]\n",
    "            y_batch = y_train[i * batch_size: (i + 1) * batch_size]\n",
    "            optimizer.zero_grad()\n",
    "            predictions = model(x_batch)\n",
    "            loss = criterion(y_batch, predictions)\n",
    "            loss.backward()\n",
    "            optimizer.step()\n",
    "            optimizer.zero_grad()\n",
    "            \n",
    "        with torch.no_grad():\n",
    "            history.append(loss.item())\n",
    "            if (X_val is not None) or (y_val is not None):\n",
    "                val_predictions = model(X_val)\n",
    "                val_history.append(criterion(val_predictions, y_val).item())\n",
    "        if verbose:\n",
    "            output = f'epoch {epoch}: {history[-1]}' if (X_val is None) or (y_val is None) else f'epoch {epoch}: {loss.item()}; val loss: {val_history[-1]}'\n",
    "            print(output)\n",
    "    return history, val_history"
   ]
  },
  {
   "cell_type": "markdown",
   "metadata": {},
   "source": [
    "1. Нарисуйте график среднеквадратичной ошибки в зависимости от параметра регуляризации $\\alpha$, используя полные данные для обучения и для тестирования."
   ]
  },
  {
   "cell_type": "code",
   "execution_count": 5,
   "metadata": {},
   "outputs": [
    {
     "data": {
      "image/png": "[encoded data removed]",
      "text/plain": [
       "<Figure size 432x288 with 1 Axes>"
      ]
     },
     "metadata": {
      "needs_background": "light"
     },
     "output_type": "display_data"
    }
   ],
   "source": [
    "alpha_range = np.arange(0.0, 5.0, 0.1)\n",
    "loss_list = []\n",
    "for alpha in alpha_range:\n",
    "    model = LinearModel(X.shape[1])\n",
    "    mse_loss = torch.nn.MSELoss(reduction='mean')\n",
    "    optimizer = torch.optim.SGD(model.parameters(), lr = 1e-4, weight_decay = alpha)\n",
    "    history, val_history = train_model(model, mse_loss, optimizer, X, Y, epochs = 100, batch_size = 16, verbose = False)\n",
    "    model.eval()\n",
    "    prediction = model(X)\n",
    "    loss = mse_loss(prediction, Y)\n",
    "    loss_list.append(loss.item())\n",
    "\n",
    "plt.plot(alpha_range, loss_list, label = 'loss')\n",
    "plt.xlabel(\"alpha\")\n",
    "plt.ylabel(\"final loss\")\n",
    "plt.legend() \n",
    "plt.grid()\n",
    "plt.show()"
   ]
  },
  {
   "cell_type": "markdown",
   "metadata": {},
   "source": [
    "2. Подготовьте исходные данные для 5 fold CV."
   ]
  },
  {
   "cell_type": "code",
   "execution_count": 6,
   "metadata": {},
   "outputs": [],
   "source": [
    "def k_fold_training(X, y, k, epochs, lr, weight_decay_param, batch_size = 16, verbose = True):\n",
    "    num_val_samples = len(X) // k    \n",
    "    models = []\n",
    "    history_list = []\n",
    "    train_scores = []\n",
    "    val_scores = []\n",
    "    \n",
    "    for i in range(k):\n",
    "        if verbose:\n",
    "            print('fold #', i +1)\n",
    "        val_data = X[i * num_val_samples: (i + 1) * num_val_samples]\n",
    "        val_targets = Y[i * num_val_samples: (i + 1) * num_val_samples]\n",
    "        partial_train_data = torch.Tensor(np.concatenate( [X[:i * num_val_samples], X[(i + 1) * num_val_samples:]], axis=0))\n",
    "        partial_train_targets = torch.Tensor(np.concatenate([y[:i * num_val_samples], y[(i + 1) * num_val_samples:]], axis=0))\n",
    "        model = LinearModel(X.shape[1])\n",
    "        criterion = torch.nn.MSELoss() \n",
    "        optimizer = torch.optim.SGD(model.parameters(), lr=lr, weight_decay = weight_decay_param)\n",
    "\n",
    "        history = train_model(model, criterion, optimizer, partial_train_data, partial_train_targets, val_data, val_targets,\n",
    "                               batch_size = batch_size,  epochs = epochs, verbose = False)\n",
    "        with torch.no_grad():\n",
    "            val_score = criterion(model(val_data), val_targets)\n",
    "            train_score = criterion(model(partial_train_data), partial_train_targets)\n",
    "        if verbose:\n",
    "            print(f'val_score: {val_score}')\n",
    "        \n",
    "        models.append(model)\n",
    "        history_list.append(history)\n",
    "        train_scores.append(train_score)\n",
    "        val_scores.append(val_score)\n",
    "    \n",
    "    return {'models': models, 'history': history_list, 'train_scores': train_scores, 'val_scores': val_scores}\n",
    "    "
   ]
  },
  {
   "cell_type": "code",
   "execution_count": 7,
   "metadata": {},
   "outputs": [
    {
     "name": "stdout",
     "output_type": "stream",
     "text": [
      "fold # 1\n",
      "val_score: 111.44230651855469\n",
      "fold # 2\n",
      "val_score: 112.59626007080078\n",
      "fold # 3\n",
      "val_score: 135.98614501953125\n",
      "fold # 4\n",
      "val_score: 123.69572448730469\n",
      "fold # 5\n",
      "val_score: 135.38833618164062\n"
     ]
    }
   ],
   "source": [
    "info = k_fold_training(X, Y, 5, 50, 0.1, weight_decay_param=0.1)"
   ]
  },
  {
   "cell_type": "markdown",
   "metadata": {},
   "source": [
    "3. С помощью CV найдите оптимальное значение $\\alpha$ на какой-нибудь сетке значений."
   ]
  },
  {
   "cell_type": "code",
   "execution_count": 8,
   "metadata": {},
   "outputs": [],
   "source": [
    "def find_alpha(X, Y, steps, lr_range, alpha_range, verbose = True, epochs = 100, batch_size = 16):\n",
    "    mean_scores = []\n",
    "    params_list = []\n",
    "    for i in range(1, steps+1):\n",
    "        random_lr = np.random.uniform(*lr_range)\n",
    "        random_alpha = np.random.uniform(*alpha_range)\n",
    "        params = {'lr': random_lr, 'weight_decay': random_alpha}\n",
    "        if verbose:\n",
    "            print(f'{i}) random_lr: {random_lr}; random_alpha: {random_alpha}')\n",
    "        \n",
    "        info = k_fold_training(X, Y, 5, epochs, random_lr, random_alpha, batch_size = batch_size, verbose = False)\n",
    "        mean_score = np.array(info['val_scores']).mean()\n",
    "        if verbose:\n",
    "            print(f'mean score: {mean_score}\\n')\n",
    "        mean_scores.append(mean_score)\n",
    "        params_list.append(params)\n",
    "    \n",
    "    min_index = np.array(mean_scores).argmin()\n",
    "    if verbose:\n",
    "        print(f'optimal params: {params_list[min_index]}; mean score: {mean_scores[min_index]}')\n",
    "    return params_list[min_index]\n",
    "        "
   ]
  },
  {
   "cell_type": "code",
   "execution_count": null,
   "metadata": {},
   "outputs": [
    {
     "name": "stdout",
     "output_type": "stream",
     "text": [
      "1) random_lr: 0.06468894440483262; random_alpha: 0.056852228864628596\n",
      "mean score: 109.0457992553711\n",
      "\n",
      "2) random_lr: 0.013790493318379966; random_alpha: 0.7010603659880986\n",
      "mean score: 633.3718872070312\n",
      "\n",
      "3) random_lr: 0.07502446882143768; random_alpha: 0.1826871861625866\n",
      "mean score: 159.0795440673828\n",
      "\n",
      "4) random_lr: 0.07910410068941726; random_alpha: 0.8551892594542458\n",
      "mean score: 871.0813598632812\n",
      "\n",
      "5) random_lr: 0.03575518522246524; random_alpha: 0.5567155497590607\n",
      "mean score: 464.1294860839844\n",
      "\n",
      "6) random_lr: 0.09133234229397066; random_alpha: 0.04544788248232434\n",
      "mean score: 107.8514404296875\n",
      "\n",
      "7) random_lr: 0.015353972190062674; random_alpha: 0.7651140899652342\n",
      "mean score: 705.8257446289062\n",
      "\n",
      "8) random_lr: 0.0586952729231634; random_alpha: 0.7914957534169174\n",
      "mean score: 747.0321044921875\n",
      "\n",
      "9) random_lr: 0.0908136527812168; random_alpha: 0.25901602599887297\n",
      "mean score: 214.22476196289062\n",
      "\n",
      "10) random_lr: 0.024297721697507584; random_alpha: 0.7581513926394893\n",
      "mean score: 688.4352416992188\n",
      "\n",
      "11) random_lr: 0.08901164709082802; random_alpha: 0.5712041639650227\n",
      "mean score: 528.0507202148438\n",
      "\n",
      "12) random_lr: 0.03032065636231174; random_alpha: 0.012027866666784903\n",
      "mean score: 101.8523941040039\n",
      "\n",
      "13) random_lr: 0.05220800185934954; random_alpha: 0.2962694792400986\n",
      "mean score: 229.5864715576172\n",
      "\n",
      "14) random_lr: 0.059467535410372675; random_alpha: 0.4140233088288068\n",
      "mean score: 331.79046630859375\n",
      "\n",
      "15) random_lr: 0.04560118476378842; random_alpha: 0.6303349159884422\n",
      "mean score: 546.0323486328125\n",
      "\n",
      "16) random_lr: 0.0772097819014308; random_alpha: 0.16515765729987708\n",
      "mean score: 149.96530151367188\n",
      "\n",
      "17) random_lr: 0.07837822424319926; random_alpha: 0.33886114439337667\n",
      "mean score: 273.89739990234375\n",
      "\n",
      "18) random_lr: 0.025159458803955682; random_alpha: 0.3173978197545868\n",
      "mean score: 244.2362060546875\n",
      "\n",
      "19) random_lr: 0.07611810412124141; random_alpha: 0.12981665555384703\n",
      "mean score: 133.01828002929688\n",
      "\n",
      "20) random_lr: 0.07131897528972672; random_alpha: 0.9549600649406624\n",
      "mean score: 982.9529418945312\n",
      "\n",
      "21) random_lr: 0.053736121955110384; random_alpha: 0.8417293178840695\n",
      "mean score: 800.6407470703125\n",
      "\n",
      "22) random_lr: 0.09165291735712983; random_alpha: 0.9502180796540479\n",
      "mean score: 1039.308349609375\n",
      "\n",
      "23) random_lr: 0.09004920153670931; random_alpha: 0.7259342302605647\n",
      "mean score: 725.4661254882812\n",
      "\n",
      "24) random_lr: 0.024131104682262507; random_alpha: 0.8788593845577857\n",
      "mean score: 830.2537231445312\n",
      "\n",
      "25) random_lr: 0.040124709553915255; random_alpha: 0.29806588280142576\n",
      "mean score: 229.1959991455078\n",
      "\n",
      "26) random_lr: 0.05855396393371807; random_alpha: 0.5574350463743929\n",
      "mean score: 476.10772705078125\n",
      "\n",
      "27) random_lr: 0.020975289605525242; random_alpha: 0.42437818319514886\n",
      "mean score: 336.6446228027344\n",
      "\n",
      "28) random_lr: 0.06280114133017171; random_alpha: 0.4440049846287054\n",
      "mean score: 362.338623046875\n",
      "\n",
      "29) random_lr: 0.09414993191296012; random_alpha: 0.004924563967268036\n",
      "mean score: 100.94249725341797\n",
      "\n",
      "30) random_lr: 0.003823202242769332; random_alpha: 0.2729001140984231\n",
      "mean score: 216.1575469970703\n",
      "\n",
      "31) random_lr: 0.09943907880984561; random_alpha: 0.35489987948350943\n",
      "mean score: 302.3177185058594\n",
      "\n",
      "32) random_lr: 0.06316104244304725; random_alpha: 0.06529818084949035\n",
      "mean score: 110.84742736816406\n",
      "\n",
      "33) random_lr: 0.0473831263968219; random_alpha: 0.18414236414723872\n",
      "mean score: 156.3375701904297\n",
      "\n",
      "34) random_lr: 0.09360715915169802; random_alpha: 0.24431218882225036\n",
      "mean score: 204.29879760742188\n",
      "\n",
      "35) random_lr: 0.05159685293963661; random_alpha: 0.03754545550487376\n",
      "mean score: 105.3330307006836\n",
      "\n",
      "36) random_lr: 0.0342370654667083; random_alpha: 0.545774291202884\n"
     ]
    }
   ],
   "source": [
    "best_params = find_alpha(X, Y, 100, [1e-5, 1e-1], [0.0, 1.0])"
   ]
  },
  {
   "cell_type": "markdown",
   "metadata": {},
   "source": [
    "4. Постройте валидационную кривую. \n",
    "5. Постройте кривую обучения."
   ]
  },
  {
   "cell_type": "code",
   "execution_count": null,
   "metadata": {},
   "outputs": [],
   "source": [
    "model = LinearModel(X.shape[1])\n",
    "mse_loss = torch.nn.MSELoss(reduction='mean')\n",
    "optimizer = torch.optim.SGD(model.parameters(), **best_params)\n",
    "\n",
    "history, val_history = train_model(model, mse_loss, optimizer, X[200:], Y[200:], X[:200], Y[:200], epochs = 200, batch_size = 16,\n",
    "        verbose = True)"
   ]
  },
  {
   "cell_type": "code",
   "execution_count": null,
   "metadata": {},
   "outputs": [],
   "source": [
    "print(val_history[-1])\n",
    "plt.plot(range(len(history)), history, label = 'loss')\n",
    "plt.plot(range(len(val_history)), val_history, label = 'val_loss')\n",
    "plt.xlabel(\"epochs\")\n",
    "plt.ylabel(\"loss\")\n",
    "plt.legend() \n",
    "plt.grid()\n",
    "plt.show()"
   ]
  },
  {
   "cell_type": "code",
   "execution_count": null,
   "metadata": {},
   "outputs": [],
   "source": []
  }
 ],
 "metadata": {
  "kernelspec": {
   "display_name": "Python 3",
   "language": "python",
   "name": "python3"
  },
  "language_info": {
   "codemirror_mode": {
    "name": "ipython",
    "version": 3
   },
   "file_extension": ".py",
   "mimetype": "text/x-python",
   "name": "python",
   "nbconvert_exporter": "python",
   "pygments_lexer": "ipython3",
   "version": "3.7.9"
  }
 },
 "nbformat": 4,
 "nbformat_minor": 4
}
